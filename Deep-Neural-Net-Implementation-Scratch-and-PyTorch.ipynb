{
 "cells": [
  {
   "cell_type": "code",
   "execution_count": 1,
   "metadata": {},
   "outputs": [],
   "source": [
    "import numpy as np\n",
    "import matplotlib.pyplot as plt\n",
    "import seaborn as sns\n",
    "sns.set()\n",
    "from sklearn.model_selection import train_test_split\n",
    "from sklearn.datasets import load_breast_cancer\n",
    "from tqdm import tqdm_notebook, trange\n",
    "from tqdm import tqdm\n",
    "import sys\n",
    "import time\n",
    "from sklearn.metrics import accuracy_score, classification_report"
   ]
  },
  {
   "cell_type": "code",
   "execution_count": 2,
   "metadata": {},
   "outputs": [
    {
     "name": "stderr",
     "output_type": "stream",
     "text": [
      "<>:37: SyntaxWarning: \"is\" with a literal. Did you mean \"==\"?\n",
      "<>:39: SyntaxWarning: \"is\" with a literal. Did you mean \"==\"?\n",
      "<>:72: SyntaxWarning: \"is\" with a literal. Did you mean \"==\"?\n",
      "<>:74: SyntaxWarning: \"is\" with a literal. Did you mean \"==\"?\n",
      "<>:37: SyntaxWarning: \"is\" with a literal. Did you mean \"==\"?\n",
      "<>:39: SyntaxWarning: \"is\" with a literal. Did you mean \"==\"?\n",
      "<>:72: SyntaxWarning: \"is\" with a literal. Did you mean \"==\"?\n",
      "<>:74: SyntaxWarning: \"is\" with a literal. Did you mean \"==\"?\n",
      "<ipython-input-2-a34487e128ac>:37: SyntaxWarning: \"is\" with a literal. Did you mean \"==\"?\n",
      "  if activation_function is 'relu':\n",
      "<ipython-input-2-a34487e128ac>:39: SyntaxWarning: \"is\" with a literal. Did you mean \"==\"?\n",
      "  elif activation_function is 'sigmoid':\n",
      "<ipython-input-2-a34487e128ac>:72: SyntaxWarning: \"is\" with a literal. Did you mean \"==\"?\n",
      "  if activation_function is 'sigmoid':\n",
      "<ipython-input-2-a34487e128ac>:74: SyntaxWarning: \"is\" with a literal. Did you mean \"==\"?\n",
      "  elif activation_function is 'relu':\n"
     ]
    }
   ],
   "source": [
    "class NeuralNet():\n",
    "  \n",
    "  def __init__(self, architecture):\n",
    "    self.architecture = architecture\n",
    "    self.params = self._initialize_params(architecture)\n",
    "  \n",
    "  def _initialize_params(self, architecture):\n",
    "    params = {}\n",
    "    for id_, layer in enumerate(architecture):\n",
    "      layer_id = id_ + 1\n",
    "\n",
    "      input_dim = layer['input_dim']\n",
    "      output_dim = layer['output_dim']\n",
    "\n",
    "      params['W'+str(layer_id)] = np.random.randn(output_dim, input_dim)*0.1\n",
    "      params['b'+str(layer_id)] = np.zeros((output_dim, 1))\n",
    "\n",
    "    return params\n",
    "  \n",
    "  def sigmoid(self, Z):\n",
    "    return 1/(1+np.exp(-Z))\n",
    "\n",
    "  def relu(self, Z):\n",
    "    return np.maximum(0, Z)\n",
    "\n",
    "  def sigmoid_backward(self, dA, z_curr):\n",
    "    sig = self.sigmoid(z_curr)\n",
    "    return sig*(1-sig)*dA\n",
    "\n",
    "  def relu_backward(self, dA, z_curr):\n",
    "    dz = np.array(dA, copy=True)\n",
    "    dz[z_curr<=0]=0\n",
    "    return dz\n",
    "  \n",
    "  def _forward_prop_this_layer(self, A_prev, W_curr, b_curr, activation_function):\n",
    "    z_curr = np.dot(W_curr, A_prev) + b_curr\n",
    "\n",
    "    if activation_function is 'relu':\n",
    "      activation = self.relu\n",
    "    elif activation_function is 'sigmoid':\n",
    "      activation = self.sigmoid\n",
    "    else:\n",
    "      raise Exception(f\"{activation_function} is not supported, Only sigmoid, relu are supported\")\n",
    "\n",
    "    return activation(z_curr), z_curr\n",
    "\n",
    "  def _forward(self, X):\n",
    "    cache = {}\n",
    "    A_current = X\n",
    "    for layer_id_prev, layer in enumerate(self.architecture):\n",
    "      current_layer_id = layer_id_prev+1\n",
    "\n",
    "      A_previous = A_current\n",
    "      activation = layer['activation']\n",
    "\n",
    "      W_curr = self.params['W'+str(current_layer_id)]\n",
    "      b_curr = self.params['b'+str(current_layer_id)]\n",
    "\n",
    "      A_current, Z_curr = self._forward_prop_this_layer(A_previous, W_curr,\n",
    "                                                  b_curr, activation)\n",
    "\n",
    "      cache['A'+str(layer_id_prev)] = A_previous\n",
    "      cache['Z'+str(current_layer_id)] = Z_curr\n",
    "      \n",
    "    return A_current, cache\n",
    "\n",
    "  def _criterion(self, y, yhat):\n",
    "    m = yhat.shape[1]\n",
    "    cost = -1/m * (np.dot(y, np.log(yhat).T) + np.dot(1-y, np.log(1-yhat).T))\n",
    "    return np.squeeze(cost)\n",
    "  \n",
    "  def _backprop_this_layer(self, da_curr, z_curr, W_curr, b_curr, A_prev, activation_function):\n",
    "    if activation_function is 'sigmoid':\n",
    "      activation_back = self.sigmoid_backward\n",
    "    elif activation_function is 'relu':\n",
    "      activation_back = self.relu_backward\n",
    "    else:\n",
    "      raise Exception('need sigmoid or relu')\n",
    "    m = A_prev.shape[1]\n",
    "\n",
    "    dz_curr = activation_back(da_curr, z_curr)\n",
    "    dw_curr = np.dot(dz_curr, A_prev.T)/m\n",
    "    db_curr = np.sum(dz_curr, axis=1, keepdims=True)/m\n",
    "    da_prev = np.dot(W_curr.T, dz_curr)\n",
    "\n",
    "    return da_prev, dw_curr, db_curr\n",
    "  \n",
    "  def _backward(self, ytrue, ypred, cache):\n",
    "    grads = {}\n",
    "    m = ytrue.shape[1]\n",
    "    da_prev = np.divide(1-ytrue, 1-ypred) - np.divide(ytrue, ypred)\n",
    "    \n",
    "    for prev_layer_id, layer in reversed(list(enumerate(self.architecture))):\n",
    "      layer_id = prev_layer_id + 1\n",
    "      activation = layer['activation']\n",
    "\n",
    "      da_curr = da_prev\n",
    "\n",
    "      A_prev = cache['A'+str(prev_layer_id)]\n",
    "      Z_curr = cache['Z'+str(layer_id)]\n",
    "\n",
    "      W_curr = self.params['W'+str(layer_id)]\n",
    "      b_curr = self.params['b'+str(layer_id)]\n",
    "\n",
    "      da_prev, dw_curr, db_curr = self._backprop_this_layer(\n",
    "          da_curr, Z_curr, W_curr, b_curr, A_prev, activation)\n",
    "\n",
    "      grads[\"dw\"+str(layer_id)] = dw_curr\n",
    "      grads['db'+str(layer_id)] = db_curr\n",
    "\n",
    "    return grads\n",
    "  \n",
    "  def update(self, grads, learning_rate):\n",
    "    for layer_id, layer in enumerate(self.architecture, 1):\n",
    "      self.params['W'+str(layer_id)] -= learning_rate * grads['dw'+str(layer_id)]\n",
    "      self.params['b'+str(layer_id)] -= learning_rate * grads['db'+str(layer_id)]\n",
    "  \n",
    "  def fit(self, X, y, epochs, learning_rate, verbose=True, show_loss=True):\n",
    "    X, y = X.T, y.reshape((y.shape[0],-1)).T\n",
    "    loss_history, accuracy_history = [], []\n",
    "    for epoch in tqdm_notebook(range(epochs), total=epochs, unit='epoch'):\n",
    "      yhat, cache = self._forward(X)\n",
    "      loss = self._criterion(y, yhat)\n",
    "      loss_history.append(loss)\n",
    "\n",
    "      yacc = yhat.copy()\n",
    "      yacc[yacc>0.5] = 1\n",
    "      yacc[yacc<=0.5] = 0\n",
    "\n",
    "      accuracy = np.sum(y[0]==yacc[0])/(yacc.shape[1])\n",
    "      accuracy_history.append(accuracy)\n",
    "\n",
    "      grads_values = self._backward(y, yhat, cache)\n",
    "\n",
    "      self.update(grads_values, learning_rate)\n",
    "      if(epoch % 1000 == 0):\n",
    "              if(verbose):\n",
    "                  print(\"Epoch: {:05} - cost: {:.5f} - accuracy: {:.5f}\".format(epoch, loss, accuracy))\n",
    "\n",
    "        \n",
    "    fig = plt.figure(figsize=(12,10))\n",
    "    plt.plot(range(epochs), loss_history, 'r-')\n",
    "    plt.plot(range(epochs), accuracy_history, 'b--')\n",
    "    plt.legend(['Training_loss', 'Training_Accuracy'])\n",
    "    plt.xlabel('Epochs')\n",
    "    plt.ylabel('Loss/Accuracy')\n",
    "    plt.show()\n",
    "\n",
    "  def predict(self, X):\n",
    "    yhat, _ = self._forward(X)\n",
    "    yhat[yhat>0.5]=1\n",
    "    yhat[yhat<=0.5]=0\n",
    "    return np.squeeze(yhat)"
   ]
  },
  {
   "cell_type": "code",
   "execution_count": 3,
   "metadata": {},
   "outputs": [],
   "source": [
    "bc = load_breast_cancer()\n",
    "X, y = bc.data, bc.target"
   ]
  },
  {
   "cell_type": "code",
   "execution_count": 4,
   "metadata": {},
   "outputs": [],
   "source": [
    "X_train, X_test, y_train, y_test = train_test_split(X, y, stratify=y, test_size=0.1, random_state=42)"
   ]
  },
  {
   "cell_type": "code",
   "execution_count": 5,
   "metadata": {},
   "outputs": [
    {
     "data": {
      "text/plain": [
       "(512, 30)"
      ]
     },
     "execution_count": 5,
     "metadata": {},
     "output_type": "execute_result"
    }
   ],
   "source": [
    "X_train.shape"
   ]
  },
  {
   "cell_type": "code",
   "execution_count": 6,
   "metadata": {},
   "outputs": [],
   "source": [
    "NN_ARCHITECTURE = [\n",
    "    {\"input_dim\": 30, \"output_dim\": 32, \"activation\": \"relu\"}, # Input Layer\n",
    "    {\"input_dim\": 32, \"output_dim\": 64, \"activation\": \"relu\"},# Hidden Layer -- 1\n",
    "    {\"input_dim\": 64, \"output_dim\": 64, \"activation\": \"relu\"},# Second Hidden Layer\n",
    "    {\"input_dim\": 64, \"output_dim\": 32, \"activation\": \"relu\"},# Third Hidden Layer\n",
    "    {\"input_dim\": 32, \"output_dim\": 1, \"activation\": \"sigmoid\"},# Output Layer\n",
    "]"
   ]
  },
  {
   "cell_type": "code",
   "execution_count": 7,
   "metadata": {},
   "outputs": [
    {
     "name": "stderr",
     "output_type": "stream",
     "text": [
      "<ipython-input-2-a34487e128ac>:120: TqdmDeprecationWarning: This function will be removed in tqdm==5.0.0\n",
      "Please use `tqdm.notebook.tqdm` instead of `tqdm.tqdm_notebook`\n",
      "  for epoch in tqdm_notebook(range(epochs), total=epochs, unit='epoch'):\n"
     ]
    },
    {
     "data": {
      "application/vnd.jupyter.widget-view+json": {
       "model_id": "2b875345ade540999983b7eb1925ff3b",
       "version_major": 2,
       "version_minor": 0
      },
      "text/plain": [
       "HBox(children=(HTML(value=''), FloatProgress(value=0.0, max=5001.0), HTML(value='')))"
      ]
     },
     "metadata": {},
     "output_type": "display_data"
    },
    {
     "name": "stdout",
     "output_type": "stream",
     "text": [
      "Epoch: 00000 - cost: 0.60607 - accuracy: 0.72266\n",
      "Epoch: 01000 - cost: 0.21021 - accuracy: 0.92383\n",
      "Epoch: 02000 - cost: 0.18832 - accuracy: 0.93555\n",
      "Epoch: 03000 - cost: 0.16863 - accuracy: 0.93555\n",
      "Epoch: 04000 - cost: 0.16685 - accuracy: 0.94141\n",
      "Epoch: 05000 - cost: 0.15399 - accuracy: 0.94141\n",
      "\n"
     ]
    },
    {
     "data": {
      "image/png": "[encoded data removed]",
      "text/plain": [
       "<Figure size 864x720 with 1 Axes>"
      ]
     },
     "metadata": {},
     "output_type": "display_data"
    }
   ],
   "source": [
    "net = NeuralNet(NN_ARCHITECTURE)\n",
    "net.fit(X_train, y_train, epochs=5001, learning_rate=3e-3, verbose=True, show_loss=True)"
   ]
  },
  {
   "cell_type": "code",
   "execution_count": 8,
   "metadata": {},
   "outputs": [
    {
     "data": {
      "text/plain": [
       "0.8771929824561403"
      ]
     },
     "execution_count": 8,
     "metadata": {},
     "output_type": "execute_result"
    }
   ],
   "source": [
    "predictions = net.predict(X_test.T)\n",
    "accuracy_score(y_test, predictions)"
   ]
  },
  {
   "cell_type": "code",
   "execution_count": 9,
   "metadata": {},
   "outputs": [
    {
     "name": "stdout",
     "output_type": "stream",
     "text": [
      "              precision    recall  f1-score   support\n",
      "\n",
      "           0       0.79      0.90      0.84        21\n",
      "           1       0.94      0.86      0.90        36\n",
      "\n",
      "    accuracy                           0.88        57\n",
      "   macro avg       0.87      0.88      0.87        57\n",
      "weighted avg       0.88      0.88      0.88        57\n",
      "\n"
     ]
    }
   ],
   "source": [
    "print(classification_report(y_test, predictions))"
   ]
  },
  {
   "cell_type": "code",
   "execution_count": 12,
   "metadata": {},
   "outputs": [],
   "source": [
    "import torch\n",
    "from torch import nn, optim"
   ]
  },
  {
   "cell_type": "code",
   "execution_count": 13,
   "metadata": {},
   "outputs": [],
   "source": [
    "model = nn.Sequential(nn.Linear(30, 32),nn.ReLU(), \n",
    "              nn.Linear(32,64), nn.ReLU(),\n",
    "             nn.Linear(64,64), nn.ReLU(),\n",
    "             nn.Linear(64, 32), nn.ReLU(),\n",
    "             nn.Linear(32, 1), nn.Sigmoid())\n",
    "\n",
    "optimizer = optim.SGD(model.parameters(), lr=3e-3, momentum=0.9)\n",
    "criterion = nn.BCELoss()"
   ]
  },
  {
   "cell_type": "code",
   "execution_count": 14,
   "metadata": {},
   "outputs": [],
   "source": [
    "from torch.utils import data\n",
    "trainds = data.TensorDataset(torch.from_numpy(X_train), torch.from_numpy(y_train).int())\n",
    "testds = data.TensorDataset(torch.from_numpy(X_test), torch.from_numpy(y_test).int())\n",
    "\n",
    "from torch.utils.data import DataLoader\n",
    "trainloader = DataLoader(trainds, batch_size=16)\n",
    "testloader = DataLoader(testds, batch_size=16)"
   ]
  },
  {
   "cell_type": "code",
   "execution_count": null,
   "metadata": {},
   "outputs": [],
   "source": [
    "for epoch in range(501):\n",
    "  running_loss = 0.0\n",
    "  running_corrects = 0.0\n",
    "  for inp, label in trainloader:\n",
    "    inp, label = inp.float(), label.float()\n",
    "    output = model(inp)\n",
    "    val = (output.data>0.5).float()\n",
    "    val = val.view(1, -1)\n",
    "\n",
    "    loss = criterion(output, label)\n",
    "    \n",
    "    optimizer.zero_grad()\n",
    "    loss.backward()\n",
    "    optimizer.step()\n",
    "    \n",
    "    running_loss += loss.item()*inp.size(0)\n",
    "    running_corrects += torch.sum((val==label))\n",
    "    \n",
    "  epoch_loss = running_loss/len(trainloader.dataset)\n",
    "  epoch_acc = running_corrects.double()/len(trainloader.dataset)\n",
    "  if epoch%100==0:\n",
    "    print(f'Epoch - {epoch} Loss..{epoch_loss}...Accuracy {epoch_acc}')"
   ]
  },
  {
   "cell_type": "code",
   "execution_count": null,
   "metadata": {},
   "outputs": [],
   "source": [
    "predictions = []\n",
    "for inp, _ in testloader:\n",
    "  output = model(inp.float())\n",
    "  preds = (output.data>0.5).float()\n",
    "  predictions.append(preds.view(1,-1).numpy().ravel())"
   ]
  },
  {
   "cell_type": "code",
   "execution_count": null,
   "metadata": {},
   "outputs": [],
   "source": [
    "predictions = np.concatenate(np.array(predictions)).ravel()"
   ]
  },
  {
   "cell_type": "code",
   "execution_count": null,
   "metadata": {},
   "outputs": [],
   "source": [
    "print(accuracy_score(y_test, predictions))\n",
    "print('classification report \\n', classification_report(y_test, predictions))"
   ]
  },
  {
   "cell_type": "code",
   "execution_count": null,
   "metadata": {},
   "outputs": [],
   "source": []
  },
  {
   "cell_type": "code",
   "execution_count": null,
   "metadata": {},
   "outputs": [],
   "source": []
  },
  {
   "cell_type": "code",
   "execution_count": null,
   "metadata": {},
   "outputs": [],
   "source": []
  },
  {
   "cell_type": "code",
   "execution_count": null,
   "metadata": {},
   "outputs": [],
   "source": []
  }
 ],
 "metadata": {
  "kernelspec": {
   "display_name": "Python 3",
   "language": "python",
   "name": "python3"
  },
  "language_info": {
   "codemirror_mode": {
    "name": "ipython",
    "version": 3
   },
   "file_extension": ".py",
   "mimetype": "text/x-python",
   "name": "python",
   "nbconvert_exporter": "python",
   "pygments_lexer": "ipython3",
   "version": "3.8.5"
  }
 },
 "nbformat": 4,
 "nbformat_minor": 4
}
